{
 "cells": [
  {
   "cell_type": "markdown",
   "id": "9d32c009",
   "metadata": {},
   "source": [
    "# Let tall to phython\n",
    "\n"
   ]
  },
  {
   "cell_type": "markdown",
   "id": "9bf1a5a0",
   "metadata": {},
   "source": [
    "# compairion operators\n",
    "## bằng ==\n",
    "## khác !=\n",
    "## nhỏ hơn <\n",
    "## lớn hơn >\n",
    "## nhỏ hơn hoặc bằng <=\n",
    "## lớn hơn hoặc bằng >="
   ]
  },
  {
   "cell_type": "markdown",
   "id": "e997541d",
   "metadata": {},
   "source": [
    "# String ( chuỗi)"
   ]
  },
  {
   "cell_type": "markdown",
   "id": "454650b7",
   "metadata": {},
   "source": [
    "_ conacatnation (Phép cộng chuỗi): +"
   ]
  },
  {
   "cell_type": "markdown",
   "id": "769b8735",
   "metadata": {},
   "source": [
    "_multiplication (nhân chuỗi): *"
   ]
  },
  {
   "cell_type": "markdown",
   "id": "de406a76",
   "metadata": {},
   "source": [
    "# Indexes (chỉ mục)"
   ]
  },
  {
   "cell_type": "markdown",
   "id": "f783f376",
   "metadata": {},
   "source": [
    "## Variable (biến số)"
   ]
  },
  {
   "cell_type": "markdown",
   "id": "a504afb0",
   "metadata": {},
   "source": [
    "## Errors ( lỗi )"
   ]
  },
  {
   "cell_type": "markdown",
   "id": "d4ec44e0",
   "metadata": {},
   "source": [
    "#  Type of data ( Kiểu dữ liệu )"
   ]
  },
  {
   "cell_type": "markdown",
   "id": "a9a62a33",
   "metadata": {},
   "source": [
    "# Kiểu dữ liệu : booleans ( Kiểu dữ liệu logic )\n",
    "## Phép toán về logic : and; or; not \n",
    "\n",
    "# Kiểu dữ liệu phức tạp ( lists)\n",
    "## List là 1 tập hợp của cấc đối tượng \n",
    "## Khai báo list [......]"
   ]
  },
  {
   "cell_type": "code",
   "execution_count": 45,
   "id": "b5555db7",
   "metadata": {},
   "outputs": [
    {
     "ename": "SyntaxError",
     "evalue": "invalid syntax (3982725004.py, line 1)",
     "output_type": "error",
     "traceback": [
      "\u001b[0;36m  Cell \u001b[0;32mIn [45], line 1\u001b[0;36m\u001b[0m\n\u001b[0;31m    favorite color = ( xanh,hồng,đen, tím )\u001b[0m\n\u001b[0m             ^\u001b[0m\n\u001b[0;31mSyntaxError\u001b[0m\u001b[0;31m:\u001b[0m invalid syntax\n"
     ]
    }
   ],
   "source": [
    "favorite color = ( xanh,hồng,đen, tím )\n",
    "print favorite color[0]"
   ]
  },
  {
   "cell_type": "markdown",
   "id": "b8ae944b",
   "metadata": {
    "tags": [
     "Tìm",
     "hiểu",
     "về",
     "ống"
    ]
   },
   "source": [
    "# Tupe (ống)\n",
    "## Giá trị trong 1 ống là không đổi\n",
    "## Khai báo 1 tuple (.....)\n"
   ]
  },
  {
   "cell_type": "code",
   "execution_count": 1,
   "id": "e3829435",
   "metadata": {
    "tags": [
     "Ví",
     "dụ",
     "về",
     "ống"
    ]
   },
   "outputs": [],
   "source": [
    "mytuple = (\"nhat\",\"an\",\"cut\")"
   ]
  },
  {
   "cell_type": "code",
   "execution_count": 11,
   "id": "37d3ec0e",
   "metadata": {},
   "outputs": [
    {
     "data": {
      "text/plain": [
       "'nhat'"
      ]
     },
     "execution_count": 11,
     "metadata": {},
     "output_type": "execute_result"
    }
   ],
   "source": [
    " mytuple [0  ]"
   ]
  },
  {
   "cell_type": "code",
   "execution_count": 12,
   "id": "930cb746",
   "metadata": {},
   "outputs": [],
   "source": [
    "mytuple2 = (\"lst1\", \"lst2\", [\"nhat\", \"ngu\", \"an\", \"cut\"])"
   ]
  },
  {
   "cell_type": "code",
   "execution_count": 13,
   "id": "4e985f37",
   "metadata": {},
   "outputs": [
    {
     "data": {
      "text/plain": [
       "('lst1', 'lst2', ['nhat', 'ngu', 'thích', 'cut'])"
      ]
     },
     "execution_count": 13,
     "metadata": {},
     "output_type": "execute_result"
    }
   ],
   "source": [
    "mytuple2[2][2] = \"thích\"\n",
    "mytuple2"
   ]
  },
  {
   "cell_type": "markdown",
   "id": "150be8e6",
   "metadata": {},
   "source": [
    "# SET (Tập hợp)\n",
    "## Các phần tử trong set là  duy nhất và có thứ tự\n",
    "## Khai báo {......}"
   ]
  },
  {
   "cell_type": "code",
   "execution_count": 97,
   "id": "c202fa3c",
   "metadata": {},
   "outputs": [
    {
     "data": {
      "text/plain": [
       "{'Nhat', 'cứt', 'ngu', 'nhat', 'ăn'}"
      ]
     },
     "execution_count": 97,
     "metadata": {},
     "output_type": "execute_result"
    }
   ],
   "source": [
    "myset = {\"Nhat\", 'ngu', 'ăn', 'cứt', \"nhat\"}\n",
    "myset"
   ]
  },
  {
   "cell_type": "code",
   "execution_count": 24,
   "id": "6766cfa1",
   "metadata": {},
   "outputs": [
    {
     "data": {
      "text/plain": [
       "4"
      ]
     },
     "execution_count": 24,
     "metadata": {},
     "output_type": "execute_result"
    }
   ],
   "source": [
    "len(myset)"
   ]
  },
  {
   "cell_type": "code",
   "execution_count": 28,
   "id": "d2464b4b",
   "metadata": {},
   "outputs": [
    {
     "name": "stdout",
     "output_type": "stream",
     "text": [
      "nhat ngu an cut\n"
     ]
    }
   ],
   "source": [
    "student_name = [\"Mai\", \"Trang\", \"Hung\", \"Thao\", \"Mai\", \"Cuc\", \"Thien\", \"Minh\" ]\n",
    "set_std = set(student_name)\n",
    "if len(set_std) == len(student_name):\n",
    "    print (\"khong co ten trung\")\n",
    "else:\n",
    "    print (\"nhat ngu an cut\")"
   ]
  },
  {
   "cell_type": "markdown",
   "id": "e756d2e9",
   "metadata": {},
   "source": [
    "# Dictionary (Từ điển)\n",
    "## Khai báo { key1:value1, key2:value2 }\n",
    "## Dùng để định nghĩa 1 giá trị nào đó"
   ]
  },
  {
   "cell_type": "code",
   "execution_count": 30,
   "id": "7681b3c9",
   "metadata": {},
   "outputs": [
    {
     "data": {
      "text/plain": [
       "{'key1': 'nhat', 'key2': 'ngu'}"
      ]
     },
     "execution_count": 30,
     "metadata": {},
     "output_type": "execute_result"
    }
   ],
   "source": [
    "dict1 = {\"key1\":\"nhat\", \"key2\":\"ngu\"}\n",
    "dict1"
   ]
  },
  {
   "cell_type": "code",
   "execution_count": 33,
   "id": "2ccd88e8",
   "metadata": {},
   "outputs": [
    {
     "data": {
      "text/plain": [
       "'nhat'"
      ]
     },
     "execution_count": 33,
     "metadata": {},
     "output_type": "execute_result"
    }
   ],
   "source": [
    "dict1 [\"key1\"]"
   ]
  },
  {
   "cell_type": "markdown",
   "id": "93a44712",
   "metadata": {},
   "source": [
    "# Logic (control follow : Luồng điều khiển)\n",
    "## If (Điều kiện 1) :\n",
    "## else (Điều kiện 2) :   "
   ]
  },
  {
   "cell_type": "code",
   "execution_count": 39,
   "id": "619b8796",
   "metadata": {},
   "outputs": [
    {
     "name": "stdout",
     "output_type": "stream",
     "text": [
      "nhật ko ngu\n"
     ]
    }
   ],
   "source": [
    "nhật = \"nhật ngu ăn cứt \"\n",
    "if nhật == (\"nhật ngu ăn cứt\") and len(nhật)<=6:\n",
    "    print (\"nhật ngu thật\")\n",
    "elif nhật == (\"nhật ngu ăn cứt 2\"):\n",
    "    print (\"nhật ngu part 1\")\n",
    "else: \n",
    "    print (\"nhật ko ngu\")"
   ]
  },
  {
   "cell_type": "markdown",
   "id": "02c70296",
   "metadata": {},
   "source": [
    "# Loops (Vòng lặp)\n",
    "## + Counting loops (vòng lặp đếm)\n",
    "### Câu lệnh \"for\"\n",
    "## Conditional loops (vòng lặp có điều khiện)\n",
    "### for ..... while .....elif....... else....."
   ]
  },
  {
   "cell_type": "code",
   "execution_count": 71,
   "id": "7a19e1fb",
   "metadata": {},
   "outputs": [
    {
     "name": "stdout",
     "output_type": "stream",
     "text": [
      "1\n",
      "4\n",
      "9\n",
      "16\n",
      "25\n",
      "36\n",
      "49\n"
     ]
    }
   ],
   "source": [
    "my_numbers = [1, 2, 3, 4, 5, 6, 7]\n",
    "\n",
    "for item in my_numbers: \n",
    "    print (item**2)"
   ]
  },
  {
   "cell_type": "code",
   "execution_count": 74,
   "id": "c1e65f06",
   "metadata": {},
   "outputs": [
    {
     "name": "stdout",
     "output_type": "stream",
     "text": [
      "1\n",
      "4\n",
      "9\n",
      "16\n",
      "25\n",
      "36\n",
      "49\n",
      "7\n"
     ]
    }
   ],
   "source": [
    "i=0\n",
    "while i <=len(my_numbers) -1 :\n",
    "    print(my_numbers[i]**2)\n",
    "    i=i+1\n",
    "print (i)\n",
    "    "
   ]
  },
  {
   "cell_type": "markdown",
   "id": "8365e6f1",
   "metadata": {},
   "source": [
    "# Functions ( Hàm số )\n",
    "## Function's signature \n",
    "## - function's name \n",
    "## - function's parameters : tham số của hàm\n",
    "##  Khai báo \"def......\"\n",
    "ss"
   ]
  },
  {
   "cell_type": "code",
   "execution_count": 69,
   "id": "ad3ed915",
   "metadata": {},
   "outputs": [],
   "source": [
    "def say_Hello(name):\n",
    "    print (\"Hello word\",name)"
   ]
  },
  {
   "cell_type": "code",
   "execution_count": 70,
   "id": "ee156479",
   "metadata": {},
   "outputs": [
    {
     "ename": "SyntaxError",
     "evalue": "non-default argument follows default argument (3250082888.py, line 1)",
     "output_type": "error",
     "traceback": [
      "\u001b[0;36m  Cell \u001b[0;32mIn [70], line 1\u001b[0;36m\u001b[0m\n\u001b[0;31m    def say_Hello2(name = \"Hoằng\", Họ):\u001b[0m\n\u001b[0m                                     ^\u001b[0m\n\u001b[0;31mSyntaxError\u001b[0m\u001b[0;31m:\u001b[0m non-default argument follows default argument\n"
     ]
    }
   ],
   "source": [
    "def say_Hello2(name = \"Hoằng\", Họ):\n",
    "    print (\"Hello\",name)"
   ]
  },
  {
   "cell_type": "code",
   "execution_count": 71,
   "id": "d7a77e69",
   "metadata": {},
   "outputs": [
    {
     "ename": "NameError",
     "evalue": "name 'say_Hello2' is not defined",
     "output_type": "error",
     "traceback": [
      "\u001b[0;31m---------------------------------------------------------------------------\u001b[0m",
      "\u001b[0;31mNameError\u001b[0m                                 Traceback (most recent call last)",
      "Cell \u001b[0;32mIn [71], line 1\u001b[0m\n\u001b[0;32m----> 1\u001b[0m \u001b[43msay_Hello2\u001b[49m(\u001b[38;5;124m\"\u001b[39m\u001b[38;5;124mtrần\u001b[39m\u001b[38;5;124m\"\u001b[39m)\n",
      "\u001b[0;31mNameError\u001b[0m: name 'say_Hello2' is not defined"
     ]
    }
   ],
   "source": [
    "say_Hello2(\"trần\")"
   ]
  },
  {
   "cell_type": "code",
   "execution_count": 74,
   "id": "164c16aa",
   "metadata": {},
   "outputs": [
    {
     "name": "stdout",
     "output_type": "stream",
     "text": [
      "abcabc\n"
     ]
    }
   ],
   "source": [
    "def nhan_so (x):\n",
    "    print ( x*2 )\n",
    "nhan_so(\"abc\")"
   ]
  },
  {
   "cell_type": "code",
   "execution_count": 96,
   "id": "457e556d",
   "metadata": {},
   "outputs": [
    {
     "name": "stdout",
     "output_type": "stream",
     "text": [
      "408\n"
     ]
    }
   ],
   "source": [
    "def nhan_hai_so( x, y ):\n",
    "    print (x*y)\n",
    "nhan_hai_so (12,34)"
   ]
  },
  {
   "cell_type": "markdown",
   "id": "24944497",
   "metadata": {},
   "source": [
    "# Input\n",
    "## Khai báo \" name = input( ) \"\n",
    "## Đầu ra của 1 input là 1 str\n",
    "## Muốn đổi kiểu dữ liệu ta dùng hàm ép kiểu \n"
   ]
  },
  {
   "cell_type": "code",
   "execution_count": 67,
   "id": "90cf8b29",
   "metadata": {},
   "outputs": [
    {
     "name": "stdout",
     "output_type": "stream",
     "text": [
      "nhập vào 1 số:121\n"
     ]
    }
   ],
   "source": [
    "my_numbers = int(input(\"nhập vào 1 số:\"))"
   ]
  },
  {
   "cell_type": "code",
   "execution_count": 9,
   "id": "0e335d7e",
   "metadata": {},
   "outputs": [
    {
     "data": {
      "text/plain": [
       "int"
      ]
     },
     "execution_count": 9,
     "metadata": {},
     "output_type": "execute_result"
    }
   ],
   "source": [
    "type(my_numbers)"
   ]
  },
  {
   "cell_type": "code",
   "execution_count": 66,
   "id": "e3bfb1b4",
   "metadata": {},
   "outputs": [],
   "source": [
    "def hello_hoằng():\n",
    "    name = input (\"nhập tên:\")\n",
    "    print (name, \"hello hoằng\")\n",
    "    "
   ]
  },
  {
   "cell_type": "markdown",
   "id": "fe9d0efb",
   "metadata": {},
   "source": [
    "# Modules (thư viện)\n",
    "## Cách tạo 1 module "
   ]
  },
  {
   "cell_type": "code",
   "execution_count": 10,
   "id": "13152842",
   "metadata": {},
   "outputs": [],
   "source": [
    "import random as ran\n",
    "import time \n",
    "import calendar as ca\n",
    "import pandas"
   ]
  },
  {
   "cell_type": "code",
   "execution_count": 22,
   "id": "70bb0f08",
   "metadata": {},
   "outputs": [],
   "source": [
    "%reload_ext autoreload\n",
    "%autoreload 2"
   ]
  },
  {
   "cell_type": "code",
   "execution_count": 26,
   "id": "2a3df3fe",
   "metadata": {},
   "outputs": [
    {
     "name": "stdout",
     "output_type": "stream",
     "text": [
      "     April 2200\n",
      "Mo Tu We Th Fr Sa Su\n",
      "    1  2  3  4  5  6\n",
      " 7  8  9 10 11 12 13\n",
      "14 15 16 17 18 19 20\n",
      "21 22 23 24 25 26 27\n",
      "28 29 30\n"
     ]
    }
   ],
   "source": [
    "ran.randint (10,100)\n",
    "time.tzname\n",
    "ca.prmonth(2200,4)"
   ]
  },
  {
   "cell_type": "code",
   "execution_count": 27,
   "id": "f3600c48",
   "metadata": {},
   "outputs": [
    {
     "name": "stdout",
     "output_type": "stream",
     "text": [
      "Defaulting to user installation because normal site-packages is not writeable\n",
      "Requirement already satisfied: pandas in ./.local/lib/python3.9/site-packages (1.5.1)\n",
      "Requirement already satisfied: numpy>=1.20.3 in /opt/tljh/user/lib/python3.9/site-packages (from pandas) (1.23.4)\n",
      "Requirement already satisfied: pytz>=2020.1 in /opt/tljh/user/lib/python3.9/site-packages (from pandas) (2022.6)\n",
      "Requirement already satisfied: python-dateutil>=2.8.1 in /opt/tljh/user/lib/python3.9/site-packages (from pandas) (2.8.2)\n",
      "Requirement already satisfied: six>=1.5 in /opt/tljh/user/lib/python3.9/site-packages (from python-dateutil>=2.8.1->pandas) (1.16.0)\n"
     ]
    }
   ],
   "source": [
    "!pip install pandas\n"
   ]
  },
  {
   "cell_type": "code",
   "execution_count": 28,
   "id": "ed3bc7d4",
   "metadata": {},
   "outputs": [],
   "source": [
    "import nhat_ngu as nn\n"
   ]
  },
  {
   "cell_type": "code",
   "execution_count": 29,
   "id": "288e9be9",
   "metadata": {},
   "outputs": [
    {
     "name": "stdout",
     "output_type": "stream",
     "text": [
      "Chào Mừng đại ca Hoằng\n"
     ]
    }
   ],
   "source": [
    "nn.welcom(\"Hoằng\")"
   ]
  },
  {
   "cell_type": "code",
   "execution_count": 32,
   "id": "3b4ddc83",
   "metadata": {
    "scrolled": true
   },
   "outputs": [
    {
     "name": "stdout",
     "output_type": "stream",
     "text": [
      "Kết quả là 1.714\n"
     ]
    }
   ],
   "source": [
    "nn.chia(12,7)"
   ]
  },
  {
   "cell_type": "code",
   "execution_count": 62,
   "id": "2506214c",
   "metadata": {},
   "outputs": [],
   "source": [
    "import s_game as sg"
   ]
  },
  {
   "cell_type": "code",
   "execution_count": 64,
   "id": "4ab28fef",
   "metadata": {},
   "outputs": [
    {
     "name": "stdout",
     "output_type": "stream",
     "text": [
      "nhập số của bạn:12\n",
      "nhập lại số\n",
      "nhập số của bạn:23\n",
      "nhập lại số\n"
     ]
    },
    {
     "ename": "ValueError",
     "evalue": "empty range for randrange() (1, -2, -3)",
     "output_type": "error",
     "traceback": [
      "\u001b[0;31m---------------------------------------------------------------------------\u001b[0m",
      "\u001b[0;31mValueError\u001b[0m                                Traceback (most recent call last)",
      "Cell \u001b[0;32mIn [64], line 1\u001b[0m\n\u001b[0;32m----> 1\u001b[0m \u001b[43msg\u001b[49m\u001b[38;5;241;43m.\u001b[39;49m\u001b[43mgame2\u001b[49m\u001b[43m(\u001b[49m\u001b[43m)\u001b[49m\n",
      "File \u001b[0;32m~/s_game.py:13\u001b[0m, in \u001b[0;36mgame2\u001b[0;34m()\u001b[0m\n\u001b[1;32m     11\u001b[0m \n\u001b[1;32m     12\u001b[0m    while True:\n\u001b[0;32m---> 13\u001b[0m        number = int(input (\"nhập số của bạn: \"))\n\u001b[1;32m     14\u001b[0m        if XSMB == number :\n\u001b[1;32m     15\u001b[0m            print (\"Chúc mừng bạn\")\n",
      "File \u001b[0;32m/opt/tljh/user/lib/python3.9/random.py:338\u001b[0m, in \u001b[0;36mRandom.randint\u001b[0;34m(self, a, b)\u001b[0m\n\u001b[1;32m    334\u001b[0m \u001b[38;5;28;01mdef\u001b[39;00m \u001b[38;5;21mrandint\u001b[39m(\u001b[38;5;28mself\u001b[39m, a, b):\n\u001b[1;32m    335\u001b[0m     \u001b[38;5;124;03m\"\"\"Return random integer in range [a, b], including both end points.\u001b[39;00m\n\u001b[1;32m    336\u001b[0m \u001b[38;5;124;03m    \"\"\"\u001b[39;00m\n\u001b[0;32m--> 338\u001b[0m     \u001b[38;5;28;01mreturn\u001b[39;00m \u001b[38;5;28;43mself\u001b[39;49m\u001b[38;5;241;43m.\u001b[39;49m\u001b[43mrandrange\u001b[49m\u001b[43m(\u001b[49m\u001b[43ma\u001b[49m\u001b[43m,\u001b[49m\u001b[43m \u001b[49m\u001b[43mb\u001b[49m\u001b[38;5;241;43m+\u001b[39;49m\u001b[38;5;241;43m1\u001b[39;49m\u001b[43m)\u001b[49m\n",
      "File \u001b[0;32m/opt/tljh/user/lib/python3.9/random.py:316\u001b[0m, in \u001b[0;36mRandom.randrange\u001b[0;34m(self, start, stop, step)\u001b[0m\n\u001b[1;32m    314\u001b[0m     \u001b[38;5;28;01mreturn\u001b[39;00m istart \u001b[38;5;241m+\u001b[39m \u001b[38;5;28mself\u001b[39m\u001b[38;5;241m.\u001b[39m_randbelow(width)\n\u001b[1;32m    315\u001b[0m \u001b[38;5;28;01mif\u001b[39;00m step \u001b[38;5;241m==\u001b[39m \u001b[38;5;241m1\u001b[39m:\n\u001b[0;32m--> 316\u001b[0m     \u001b[38;5;28;01mraise\u001b[39;00m \u001b[38;5;167;01mValueError\u001b[39;00m(\u001b[38;5;124m\"\u001b[39m\u001b[38;5;124mempty range for randrange() (\u001b[39m\u001b[38;5;132;01m%d\u001b[39;00m\u001b[38;5;124m, \u001b[39m\u001b[38;5;132;01m%d\u001b[39;00m\u001b[38;5;124m, \u001b[39m\u001b[38;5;132;01m%d\u001b[39;00m\u001b[38;5;124m)\u001b[39m\u001b[38;5;124m\"\u001b[39m \u001b[38;5;241m%\u001b[39m (istart, istop, width))\n\u001b[1;32m    318\u001b[0m \u001b[38;5;66;03m# Non-unit step argument supplied.\u001b[39;00m\n\u001b[1;32m    319\u001b[0m istep \u001b[38;5;241m=\u001b[39m \u001b[38;5;28mint\u001b[39m(step)\n",
      "\u001b[0;31mValueError\u001b[0m: empty range for randrange() (1, -2, -3)"
     ]
    }
   ],
   "source": [
    "sg.game2()"
   ]
  },
  {
   "cell_type": "code",
   "execution_count": null,
   "id": "80587d7e",
   "metadata": {},
   "outputs": [],
   "source": []
  }
 ],
 "metadata": {
  "celltoolbar": "Tags",
  "kernelspec": {
   "display_name": "Python 3 (ipykernel)",
   "language": "python",
   "name": "python3"
  },
  "language_info": {
   "codemirror_mode": {
    "name": "ipython",
    "version": 3
   },
   "file_extension": ".py",
   "mimetype": "text/x-python",
   "name": "python",
   "nbconvert_exporter": "python",
   "pygments_lexer": "ipython3",
   "version": "3.9.7"
  }
 },
 "nbformat": 4,
 "nbformat_minor": 5
}
